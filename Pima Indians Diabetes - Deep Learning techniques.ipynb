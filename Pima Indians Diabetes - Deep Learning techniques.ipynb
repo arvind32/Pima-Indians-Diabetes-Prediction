{
 "cells": [
  {
   "cell_type": "code",
   "execution_count": 56,
   "metadata": {},
   "outputs": [],
   "source": [
    "#Loading libraries\n",
    "from keras.models import Sequential\n",
    "from keras.layers import Dense\n",
    "from keras.callbacks import ModelCheckpoint\n",
    "import matplotlib.pyplot as plt\n",
    "import numpy"
   ]
  },
  {
   "cell_type": "code",
   "execution_count": 41,
   "metadata": {},
   "outputs": [],
   "source": [
    "#Loading the dataset\n",
    "dataset = numpy.loadtxt('pima-indians-diabetes.csv', delimiter=',') \n",
    "\n",
    "#Splitting into Input and Output variables\n",
    "X = dataset[:,0:8]\n",
    "Y = dataset[:,8]"
   ]
  },
  {
   "cell_type": "code",
   "execution_count": 42,
   "metadata": {},
   "outputs": [
    {
     "data": {
      "text/plain": [
       "numpy.ndarray"
      ]
     },
     "execution_count": 42,
     "metadata": {},
     "output_type": "execute_result"
    }
   ],
   "source": [
    "type(dataset)"
   ]
  },
  {
   "cell_type": "code",
   "execution_count": 75,
   "metadata": {},
   "outputs": [],
   "source": [
    "#Defining model\n",
    "\n",
    "model = Sequential()\n",
    "model.add(Dense(12, input_dim=8, activation='relu'))\n",
    "model.add(Dense(8, activation='relu'))\n",
    "model.add(Dense(1, activation='sigmoid'))"
   ]
  },
  {
   "cell_type": "code",
   "execution_count": 76,
   "metadata": {},
   "outputs": [],
   "source": [
    "#Compiling model\n",
    "\n",
    "model.compile(loss='binary_crossentropy', optimizer='adam', metrics=['accuracy']) "
   ]
  },
  {
   "cell_type": "code",
   "execution_count": 77,
   "metadata": {},
   "outputs": [],
   "source": [
    "#Creating checkpoint and saving the best weighted model\n",
    "\n",
    "filepath=\"weights.best.hdf5\"\n",
    "checkpoint = ModelCheckpoint(filepath, monitor='val_accuracy', verbose=1,\n",
    "                             save_best_only=True, mode='max')\n",
    "callbacks_list = [checkpoint]"
   ]
  },
  {
   "cell_type": "code",
   "execution_count": 78,
   "metadata": {},
   "outputs": [
    {
     "name": "stdout",
     "output_type": "stream",
     "text": [
      "\n",
      "Epoch 00001: val_accuracy improved from -inf to 0.50394, saving model to weights.best.hdf5\n",
      "\n",
      "Epoch 00002: val_accuracy did not improve from 0.50394\n",
      "\n",
      "Epoch 00003: val_accuracy improved from 0.50394 to 0.53543, saving model to weights.best.hdf5\n",
      "\n",
      "Epoch 00004: val_accuracy did not improve from 0.53543\n",
      "\n",
      "Epoch 00005: val_accuracy did not improve from 0.53543\n",
      "\n",
      "Epoch 00006: val_accuracy did not improve from 0.53543\n",
      "\n",
      "Epoch 00007: val_accuracy improved from 0.53543 to 0.58661, saving model to weights.best.hdf5\n",
      "\n",
      "Epoch 00008: val_accuracy improved from 0.58661 to 0.60236, saving model to weights.best.hdf5\n",
      "\n",
      "Epoch 00009: val_accuracy did not improve from 0.60236\n",
      "\n",
      "Epoch 00010: val_accuracy did not improve from 0.60236\n",
      "\n",
      "Epoch 00011: val_accuracy improved from 0.60236 to 0.67323, saving model to weights.best.hdf5\n",
      "\n",
      "Epoch 00012: val_accuracy did not improve from 0.67323\n",
      "\n",
      "Epoch 00013: val_accuracy did not improve from 0.67323\n",
      "\n",
      "Epoch 00014: val_accuracy did not improve from 0.67323\n",
      "\n",
      "Epoch 00015: val_accuracy did not improve from 0.67323\n",
      "\n",
      "Epoch 00016: val_accuracy did not improve from 0.67323\n",
      "\n",
      "Epoch 00017: val_accuracy did not improve from 0.67323\n",
      "\n",
      "Epoch 00018: val_accuracy did not improve from 0.67323\n",
      "\n",
      "Epoch 00019: val_accuracy did not improve from 0.67323\n",
      "\n",
      "Epoch 00020: val_accuracy did not improve from 0.67323\n",
      "\n",
      "Epoch 00021: val_accuracy did not improve from 0.67323\n",
      "\n",
      "Epoch 00022: val_accuracy did not improve from 0.67323\n",
      "\n",
      "Epoch 00023: val_accuracy did not improve from 0.67323\n",
      "\n",
      "Epoch 00024: val_accuracy did not improve from 0.67323\n",
      "\n",
      "Epoch 00025: val_accuracy did not improve from 0.67323\n",
      "\n",
      "Epoch 00026: val_accuracy did not improve from 0.67323\n",
      "\n",
      "Epoch 00027: val_accuracy did not improve from 0.67323\n",
      "\n",
      "Epoch 00028: val_accuracy did not improve from 0.67323\n",
      "\n",
      "Epoch 00029: val_accuracy did not improve from 0.67323\n",
      "\n",
      "Epoch 00030: val_accuracy improved from 0.67323 to 0.70472, saving model to weights.best.hdf5\n",
      "\n",
      "Epoch 00031: val_accuracy did not improve from 0.70472\n",
      "\n",
      "Epoch 00032: val_accuracy did not improve from 0.70472\n",
      "\n",
      "Epoch 00033: val_accuracy did not improve from 0.70472\n",
      "\n",
      "Epoch 00034: val_accuracy did not improve from 0.70472\n",
      "\n",
      "Epoch 00035: val_accuracy did not improve from 0.70472\n",
      "\n",
      "Epoch 00036: val_accuracy did not improve from 0.70472\n",
      "\n",
      "Epoch 00037: val_accuracy improved from 0.70472 to 0.72441, saving model to weights.best.hdf5\n",
      "\n",
      "Epoch 00038: val_accuracy did not improve from 0.72441\n",
      "\n",
      "Epoch 00039: val_accuracy did not improve from 0.72441\n",
      "\n",
      "Epoch 00040: val_accuracy did not improve from 0.72441\n",
      "\n",
      "Epoch 00041: val_accuracy did not improve from 0.72441\n",
      "\n",
      "Epoch 00042: val_accuracy did not improve from 0.72441\n",
      "\n",
      "Epoch 00043: val_accuracy did not improve from 0.72441\n",
      "\n",
      "Epoch 00044: val_accuracy did not improve from 0.72441\n",
      "\n",
      "Epoch 00045: val_accuracy did not improve from 0.72441\n",
      "\n",
      "Epoch 00046: val_accuracy did not improve from 0.72441\n",
      "\n",
      "Epoch 00047: val_accuracy did not improve from 0.72441\n",
      "\n",
      "Epoch 00048: val_accuracy did not improve from 0.72441\n",
      "\n",
      "Epoch 00049: val_accuracy did not improve from 0.72441\n",
      "\n",
      "Epoch 00050: val_accuracy did not improve from 0.72441\n",
      "\n",
      "Epoch 00051: val_accuracy did not improve from 0.72441\n",
      "\n",
      "Epoch 00052: val_accuracy did not improve from 0.72441\n",
      "\n",
      "Epoch 00053: val_accuracy did not improve from 0.72441\n",
      "\n",
      "Epoch 00054: val_accuracy did not improve from 0.72441\n",
      "\n",
      "Epoch 00055: val_accuracy did not improve from 0.72441\n",
      "\n",
      "Epoch 00056: val_accuracy did not improve from 0.72441\n",
      "\n",
      "Epoch 00057: val_accuracy did not improve from 0.72441\n",
      "\n",
      "Epoch 00058: val_accuracy did not improve from 0.72441\n",
      "\n",
      "Epoch 00059: val_accuracy did not improve from 0.72441\n",
      "\n",
      "Epoch 00060: val_accuracy improved from 0.72441 to 0.73228, saving model to weights.best.hdf5\n",
      "\n",
      "Epoch 00061: val_accuracy did not improve from 0.73228\n",
      "\n",
      "Epoch 00062: val_accuracy did not improve from 0.73228\n",
      "\n",
      "Epoch 00063: val_accuracy did not improve from 0.73228\n",
      "\n",
      "Epoch 00064: val_accuracy did not improve from 0.73228\n",
      "\n",
      "Epoch 00065: val_accuracy did not improve from 0.73228\n",
      "\n",
      "Epoch 00066: val_accuracy did not improve from 0.73228\n",
      "\n",
      "Epoch 00067: val_accuracy did not improve from 0.73228\n",
      "\n",
      "Epoch 00068: val_accuracy did not improve from 0.73228\n",
      "\n",
      "Epoch 00069: val_accuracy did not improve from 0.73228\n",
      "\n",
      "Epoch 00070: val_accuracy did not improve from 0.73228\n",
      "\n",
      "Epoch 00071: val_accuracy did not improve from 0.73228\n",
      "\n",
      "Epoch 00072: val_accuracy improved from 0.73228 to 0.74409, saving model to weights.best.hdf5\n",
      "\n",
      "Epoch 00073: val_accuracy did not improve from 0.74409\n",
      "\n",
      "Epoch 00074: val_accuracy did not improve from 0.74409\n",
      "\n",
      "Epoch 00075: val_accuracy did not improve from 0.74409\n",
      "\n",
      "Epoch 00076: val_accuracy did not improve from 0.74409\n",
      "\n",
      "Epoch 00077: val_accuracy did not improve from 0.74409\n",
      "\n",
      "Epoch 00078: val_accuracy did not improve from 0.74409\n",
      "\n",
      "Epoch 00079: val_accuracy did not improve from 0.74409\n",
      "\n",
      "Epoch 00080: val_accuracy did not improve from 0.74409\n",
      "\n",
      "Epoch 00081: val_accuracy did not improve from 0.74409\n",
      "\n",
      "Epoch 00082: val_accuracy did not improve from 0.74409\n",
      "\n",
      "Epoch 00083: val_accuracy did not improve from 0.74409\n",
      "\n",
      "Epoch 00084: val_accuracy did not improve from 0.74409\n",
      "\n",
      "Epoch 00085: val_accuracy did not improve from 0.74409\n",
      "\n",
      "Epoch 00086: val_accuracy did not improve from 0.74409\n",
      "\n",
      "Epoch 00087: val_accuracy did not improve from 0.74409\n",
      "\n",
      "Epoch 00088: val_accuracy did not improve from 0.74409\n",
      "\n",
      "Epoch 00089: val_accuracy did not improve from 0.74409\n",
      "\n",
      "Epoch 00090: val_accuracy did not improve from 0.74409\n",
      "\n",
      "Epoch 00091: val_accuracy did not improve from 0.74409\n",
      "\n",
      "Epoch 00092: val_accuracy improved from 0.74409 to 0.74803, saving model to weights.best.hdf5\n",
      "\n",
      "Epoch 00093: val_accuracy did not improve from 0.74803\n",
      "\n",
      "Epoch 00094: val_accuracy did not improve from 0.74803\n",
      "\n",
      "Epoch 00095: val_accuracy did not improve from 0.74803\n",
      "\n",
      "Epoch 00096: val_accuracy did not improve from 0.74803\n",
      "\n",
      "Epoch 00097: val_accuracy did not improve from 0.74803\n",
      "\n",
      "Epoch 00098: val_accuracy did not improve from 0.74803\n",
      "\n",
      "Epoch 00099: val_accuracy did not improve from 0.74803\n",
      "\n",
      "Epoch 00100: val_accuracy did not improve from 0.74803\n",
      "\n",
      "Epoch 00101: val_accuracy did not improve from 0.74803\n",
      "\n",
      "Epoch 00102: val_accuracy did not improve from 0.74803\n",
      "\n",
      "Epoch 00103: val_accuracy did not improve from 0.74803\n",
      "\n",
      "Epoch 00104: val_accuracy did not improve from 0.74803\n",
      "\n",
      "Epoch 00105: val_accuracy did not improve from 0.74803\n",
      "\n",
      "Epoch 00106: val_accuracy improved from 0.74803 to 0.75984, saving model to weights.best.hdf5\n",
      "\n",
      "Epoch 00107: val_accuracy did not improve from 0.75984\n",
      "\n",
      "Epoch 00108: val_accuracy did not improve from 0.75984\n",
      "\n",
      "Epoch 00109: val_accuracy did not improve from 0.75984\n",
      "\n",
      "Epoch 00110: val_accuracy did not improve from 0.75984\n",
      "\n",
      "Epoch 00111: val_accuracy did not improve from 0.75984\n",
      "\n",
      "Epoch 00112: val_accuracy did not improve from 0.75984\n",
      "\n",
      "Epoch 00113: val_accuracy did not improve from 0.75984\n",
      "\n",
      "Epoch 00114: val_accuracy did not improve from 0.75984\n",
      "\n",
      "Epoch 00115: val_accuracy did not improve from 0.75984\n",
      "\n",
      "Epoch 00116: val_accuracy improved from 0.75984 to 0.76378, saving model to weights.best.hdf5\n",
      "\n",
      "Epoch 00117: val_accuracy did not improve from 0.76378\n",
      "\n",
      "Epoch 00118: val_accuracy did not improve from 0.76378\n",
      "\n",
      "Epoch 00119: val_accuracy did not improve from 0.76378\n",
      "\n",
      "Epoch 00120: val_accuracy did not improve from 0.76378\n",
      "\n",
      "Epoch 00121: val_accuracy did not improve from 0.76378\n",
      "\n",
      "Epoch 00122: val_accuracy did not improve from 0.76378\n",
      "\n",
      "Epoch 00123: val_accuracy did not improve from 0.76378\n",
      "\n",
      "Epoch 00124: val_accuracy did not improve from 0.76378\n",
      "\n",
      "Epoch 00125: val_accuracy did not improve from 0.76378\n",
      "\n",
      "Epoch 00126: val_accuracy did not improve from 0.76378\n",
      "\n",
      "Epoch 00127: val_accuracy did not improve from 0.76378\n",
      "\n",
      "Epoch 00128: val_accuracy did not improve from 0.76378\n",
      "\n",
      "Epoch 00129: val_accuracy did not improve from 0.76378\n",
      "\n",
      "Epoch 00130: val_accuracy did not improve from 0.76378\n",
      "\n",
      "Epoch 00131: val_accuracy did not improve from 0.76378\n",
      "\n",
      "Epoch 00132: val_accuracy did not improve from 0.76378\n",
      "\n",
      "Epoch 00133: val_accuracy did not improve from 0.76378\n",
      "\n",
      "Epoch 00134: val_accuracy did not improve from 0.76378\n",
      "\n",
      "Epoch 00135: val_accuracy did not improve from 0.76378\n",
      "\n",
      "Epoch 00136: val_accuracy did not improve from 0.76378\n",
      "\n",
      "Epoch 00137: val_accuracy did not improve from 0.76378\n",
      "\n",
      "Epoch 00138: val_accuracy did not improve from 0.76378\n"
     ]
    },
    {
     "name": "stdout",
     "output_type": "stream",
     "text": [
      "\n",
      "Epoch 00139: val_accuracy did not improve from 0.76378\n",
      "\n",
      "Epoch 00140: val_accuracy did not improve from 0.76378\n",
      "\n",
      "Epoch 00141: val_accuracy did not improve from 0.76378\n",
      "\n",
      "Epoch 00142: val_accuracy did not improve from 0.76378\n",
      "\n",
      "Epoch 00143: val_accuracy did not improve from 0.76378\n",
      "\n",
      "Epoch 00144: val_accuracy did not improve from 0.76378\n",
      "\n",
      "Epoch 00145: val_accuracy did not improve from 0.76378\n",
      "\n",
      "Epoch 00146: val_accuracy did not improve from 0.76378\n",
      "\n",
      "Epoch 00147: val_accuracy did not improve from 0.76378\n",
      "\n",
      "Epoch 00148: val_accuracy did not improve from 0.76378\n",
      "\n",
      "Epoch 00149: val_accuracy did not improve from 0.76378\n",
      "\n",
      "Epoch 00150: val_accuracy did not improve from 0.76378\n"
     ]
    }
   ],
   "source": [
    "#Fitting model\n",
    "\n",
    "history = model.fit(X, Y, validation_split=0.33, epochs=150, batch_size=10, \n",
    "                    callbacks=callbacks_list, verbose=0)"
   ]
  },
  {
   "cell_type": "code",
   "execution_count": 79,
   "metadata": {},
   "outputs": [
    {
     "name": "stdout",
     "output_type": "stream",
     "text": [
      "\n",
      "Model accuracy:  74.86979365348816\n"
     ]
    }
   ],
   "source": [
    "_, accuracy = model.evaluate(X,Y, verbose = 0)\n",
    "print(\"\\nModel accuracy: \", accuracy*100)"
   ]
  },
  {
   "cell_type": "code",
   "execution_count": 80,
   "metadata": {},
   "outputs": [
    {
     "name": "stdout",
     "output_type": "stream",
     "text": [
      "dict_keys(['val_loss', 'val_accuracy', 'loss', 'accuracy'])\n"
     ]
    }
   ],
   "source": [
    "print(history.history.keys())"
   ]
  },
  {
   "cell_type": "code",
   "execution_count": 81,
   "metadata": {},
   "outputs": [
    {
     "data": {
      "image/png": "[encoded data removed]",
      "text/plain": [
       "<Figure size 432x288 with 1 Axes>"
      ]
     },
     "metadata": {
      "needs_background": "light"
     },
     "output_type": "display_data"
    }
   ],
   "source": [
    "#Plotting Training vs. Validation Accuracy\n",
    "\n",
    "plt.plot(history.history['accuracy'])\n",
    "plt.plot(history.history['val_accuracy'])\n",
    "plt.title('model accuracy')\n",
    "plt.ylabel('accuracy')\n",
    "plt.xlabel('epoch')\n",
    "plt.legend(['train', 'test'], loc='upper left')\n",
    "plt.show()"
   ]
  },
  {
   "cell_type": "code",
   "execution_count": 83,
   "metadata": {},
   "outputs": [
    {
     "data": {
      "image/png": "[encoded data removed]",
      "text/plain": [
       "<Figure size 432x288 with 1 Axes>"
      ]
     },
     "metadata": {
      "needs_background": "light"
     },
     "output_type": "display_data"
    }
   ],
   "source": [
    "#Plotting Test vs. Validation Loss\n",
    "\n",
    "plt.plot(history.history['loss'][8:]) \n",
    "plt.plot(history.history['val_loss'][8:])\n",
    "plt.title('model loss')\n",
    "plt.ylabel('loss')\n",
    "plt.xlabel('epoch')\n",
    "plt.legend(['train', 'test'], loc='upper left')\n",
    "plt.show()"
   ]
  },
  {
   "cell_type": "code",
   "execution_count": 69,
   "metadata": {},
   "outputs": [
    {
     "data": {
      "text/plain": [
       "list"
      ]
     },
     "execution_count": 69,
     "metadata": {},
     "output_type": "execute_result"
    }
   ],
   "source": [
    "type(history.history['loss'])"
   ]
  },
  {
   "cell_type": "code",
   "execution_count": null,
   "metadata": {},
   "outputs": [],
   "source": []
  }
 ],
 "metadata": {
  "kernelspec": {
   "display_name": "Python 3",
   "language": "python",
   "name": "python3"
  },
  "language_info": {
   "codemirror_mode": {
    "name": "ipython",
    "version": 3
   },
   "file_extension": ".py",
   "mimetype": "text/x-python",
   "name": "python",
   "nbconvert_exporter": "python",
   "pygments_lexer": "ipython3",
   "version": "3.7.7"
  }
 },
 "nbformat": 4,
 "nbformat_minor": 4
}
